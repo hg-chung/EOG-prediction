{
 "cells": [
  {
   "cell_type": "code",
   "execution_count": 4,
   "id": "04e9b27c",
   "metadata": {},
   "outputs": [],
   "source": [
    "import pickle\n",
    "import numpy as np\n",
    "import tensorflow_addons as tfa\n",
    "from sklearn.model_selection import train_test_split\n",
    "import tensorflow as tf\n",
    "from tensorflow.keras import layers\n",
    "from tensorflow.keras.utils import plot_model\n",
    "from tensorflow.keras.models import Sequential, Model\n",
    "import matplotlib.pyplot as plt"
   ]
  },
  {
   "cell_type": "code",
   "execution_count": 5,
   "id": "b0d75e6d",
   "metadata": {},
   "outputs": [],
   "source": [
    "with open('X.pkl', 'rb') as f:\n",
    "    X = pickle.load(f)\n",
    "with open('y.pkl', 'rb') as f:\n",
    "    y = pickle.load(f)  "
   ]
  },
  {
   "cell_type": "code",
   "execution_count": 6,
   "id": "7834c67b",
   "metadata": {},
   "outputs": [],
   "source": [
    "X = X.reshape(-1, 1 ,64)"
   ]
  },
  {
   "cell_type": "code",
   "execution_count": 7,
   "id": "6d9df3f4",
   "metadata": {},
   "outputs": [
    {
     "name": "stdout",
     "output_type": "stream",
     "text": [
      "(1847, 1, 64) (1847,)\n"
     ]
    }
   ],
   "source": [
    "print(X.shape, y.shape)"
   ]
  },
  {
   "cell_type": "code",
   "execution_count": 8,
   "id": "24f36f7f",
   "metadata": {},
   "outputs": [],
   "source": [
    "X_train, X_test, y_train, y_test = train_test_split(X, y, test_size=0.2, stratify=y, random_state=42)"
   ]
  },
  {
   "cell_type": "code",
   "execution_count": 9,
   "id": "a91b2815",
   "metadata": {},
   "outputs": [],
   "source": [
    "input_ = layers.Input((1,64))\n",
    "x = layers.LSTM(256)(input_)\n",
    "x = tfa.layers.GELU()(x)\n",
    "x = layers.Dropout(0.2)(x)\n",
    "x = layers.Dense(256)(x)\n",
    "x = tfa.layers.GELU()(x)\n",
    "x = layers.Dropout(0.2)(x)\n",
    "x = layers.Dense(128)(x)\n",
    "x = tfa.layers.GELU()(x)\n",
    "x = layers.Dropout(0.2)(x)\n",
    "x = layers.Dense(64)(x)\n",
    "x = tfa.layers.GELU()(x)\n",
    "output = layers.Dense(1)(x)"
   ]
  },
  {
   "cell_type": "code",
   "execution_count": 10,
   "id": "f8a4bc49",
   "metadata": {},
   "outputs": [],
   "source": [
    "opt = tf.keras.optimizers.Adam(1e-4)\n",
    "model = Model(input_, output)"
   ]
  },
  {
   "cell_type": "code",
   "execution_count": 11,
   "id": "4e041e30",
   "metadata": {
    "scrolled": true
   },
   "outputs": [
    {
     "name": "stdout",
     "output_type": "stream",
     "text": [
      "Epoch 1/100\n",
      "93/93 [==============================] - 2s 5ms/step - loss: 10.8127 - val_loss: 10.8329\n",
      "Epoch 2/100\n",
      "93/93 [==============================] - 0s 3ms/step - loss: 10.6539 - val_loss: 10.4942\n",
      "Epoch 3/100\n",
      "93/93 [==============================] - 0s 2ms/step - loss: 9.1074 - val_loss: 5.6953\n",
      "Epoch 4/100\n",
      "93/93 [==============================] - 0s 2ms/step - loss: 2.4799 - val_loss: 0.6404\n",
      "Epoch 5/100\n",
      "93/93 [==============================] - 0s 2ms/step - loss: 1.1581 - val_loss: 0.5635\n",
      "Epoch 6/100\n",
      "93/93 [==============================] - 0s 2ms/step - loss: 0.8353 - val_loss: 0.4010\n",
      "Epoch 7/100\n",
      "93/93 [==============================] - 0s 2ms/step - loss: 0.7197 - val_loss: 0.4499\n",
      "Epoch 8/100\n",
      "93/93 [==============================] - 0s 2ms/step - loss: 0.6275 - val_loss: 0.3582\n",
      "Epoch 9/100\n",
      "93/93 [==============================] - 0s 3ms/step - loss: 0.6580 - val_loss: 0.4062\n",
      "Epoch 10/100\n",
      "93/93 [==============================] - 0s 2ms/step - loss: 0.5339 - val_loss: 0.3742\n",
      "Epoch 11/100\n",
      "93/93 [==============================] - 0s 2ms/step - loss: 0.5686 - val_loss: 0.4408\n",
      "Epoch 12/100\n",
      "93/93 [==============================] - 0s 2ms/step - loss: 0.4894 - val_loss: 0.3660\n",
      "Epoch 13/100\n",
      "93/93 [==============================] - 0s 2ms/step - loss: 0.5175 - val_loss: 0.3656\n",
      "Epoch 14/100\n",
      "93/93 [==============================] - 0s 2ms/step - loss: 0.4806 - val_loss: 0.4009\n",
      "Epoch 15/100\n",
      "93/93 [==============================] - 0s 2ms/step - loss: 0.4855 - val_loss: 0.3616\n",
      "Epoch 16/100\n",
      "93/93 [==============================] - 0s 2ms/step - loss: 0.4706 - val_loss: 0.3597\n",
      "Epoch 17/100\n",
      "93/93 [==============================] - 0s 2ms/step - loss: 0.4536 - val_loss: 0.3700\n",
      "Epoch 18/100\n",
      "93/93 [==============================] - 0s 2ms/step - loss: 0.4555 - val_loss: 0.3597\n",
      "Epoch 19/100\n",
      "93/93 [==============================] - 0s 2ms/step - loss: 0.4679 - val_loss: 0.4150\n",
      "Epoch 20/100\n",
      "93/93 [==============================] - 0s 2ms/step - loss: 0.4567 - val_loss: 0.4016\n",
      "Epoch 21/100\n",
      "93/93 [==============================] - 0s 3ms/step - loss: 0.4280 - val_loss: 0.3808\n",
      "Epoch 22/100\n",
      "93/93 [==============================] - 0s 3ms/step - loss: 0.4395 - val_loss: 0.4735\n",
      "Epoch 23/100\n",
      "93/93 [==============================] - 0s 2ms/step - loss: 0.4449 - val_loss: 0.3593\n",
      "Epoch 24/100\n",
      "93/93 [==============================] - 0s 2ms/step - loss: 0.4245 - val_loss: 0.4153\n",
      "Epoch 25/100\n",
      "93/93 [==============================] - 0s 2ms/step - loss: 0.4667 - val_loss: 0.5573\n",
      "Epoch 26/100\n",
      "93/93 [==============================] - 0s 2ms/step - loss: 0.4304 - val_loss: 0.3502\n",
      "Epoch 27/100\n",
      "93/93 [==============================] - 0s 2ms/step - loss: 0.4302 - val_loss: 0.3823\n",
      "Epoch 28/100\n",
      "93/93 [==============================] - 0s 2ms/step - loss: 0.4231 - val_loss: 0.4070\n",
      "Epoch 29/100\n",
      "93/93 [==============================] - 0s 2ms/step - loss: 0.4142 - val_loss: 0.3484\n",
      "Epoch 30/100\n",
      "93/93 [==============================] - 0s 2ms/step - loss: 0.4077 - val_loss: 0.3494\n",
      "Epoch 31/100\n",
      "93/93 [==============================] - 0s 2ms/step - loss: 0.4227 - val_loss: 0.3555\n",
      "Epoch 32/100\n",
      "93/93 [==============================] - 0s 2ms/step - loss: 0.4304 - val_loss: 0.3492\n",
      "Epoch 33/100\n",
      "93/93 [==============================] - 0s 2ms/step - loss: 0.4001 - val_loss: 0.3595\n",
      "Epoch 34/100\n",
      "93/93 [==============================] - 0s 2ms/step - loss: 0.4690 - val_loss: 0.3554\n",
      "Epoch 35/100\n",
      "93/93 [==============================] - 0s 2ms/step - loss: 0.4308 - val_loss: 0.3468\n",
      "Epoch 36/100\n",
      "93/93 [==============================] - 0s 2ms/step - loss: 0.4126 - val_loss: 0.3469\n",
      "Epoch 37/100\n",
      "93/93 [==============================] - 0s 2ms/step - loss: 0.3999 - val_loss: 0.3542\n",
      "Epoch 38/100\n",
      "93/93 [==============================] - 0s 2ms/step - loss: 0.4116 - val_loss: 0.3540\n",
      "Epoch 39/100\n",
      "93/93 [==============================] - 0s 2ms/step - loss: 0.4420 - val_loss: 0.3693\n",
      "Epoch 40/100\n",
      "93/93 [==============================] - 0s 2ms/step - loss: 0.3916 - val_loss: 0.5170\n",
      "Epoch 41/100\n",
      "93/93 [==============================] - 0s 2ms/step - loss: 0.4181 - val_loss: 0.3616\n",
      "Epoch 42/100\n",
      "93/93 [==============================] - 0s 3ms/step - loss: 0.4152 - val_loss: 0.3579\n",
      "Epoch 43/100\n",
      "93/93 [==============================] - 0s 3ms/step - loss: 0.4066 - val_loss: 0.3676\n",
      "Epoch 44/100\n",
      "93/93 [==============================] - 0s 2ms/step - loss: 0.3961 - val_loss: 0.4364\n",
      "Epoch 45/100\n",
      "93/93 [==============================] - 0s 2ms/step - loss: 0.4128 - val_loss: 0.3561\n",
      "Epoch 46/100\n",
      "93/93 [==============================] - 0s 2ms/step - loss: 0.4017 - val_loss: 0.3508\n",
      "Epoch 47/100\n",
      "93/93 [==============================] - 0s 2ms/step - loss: 0.4039 - val_loss: 0.3576\n",
      "Epoch 48/100\n",
      "93/93 [==============================] - 0s 2ms/step - loss: 0.4093 - val_loss: 0.4076\n",
      "Epoch 49/100\n",
      "93/93 [==============================] - 0s 2ms/step - loss: 0.4366 - val_loss: 0.4399\n",
      "Epoch 50/100\n",
      "93/93 [==============================] - 0s 2ms/step - loss: 0.4037 - val_loss: 0.3493\n",
      "Epoch 51/100\n",
      "93/93 [==============================] - 0s 2ms/step - loss: 0.3980 - val_loss: 0.3831\n",
      "Epoch 52/100\n",
      "93/93 [==============================] - 0s 2ms/step - loss: 0.4269 - val_loss: 0.3812\n",
      "Epoch 53/100\n",
      "93/93 [==============================] - 0s 2ms/step - loss: 0.4039 - val_loss: 0.3976\n",
      "Epoch 54/100\n",
      "93/93 [==============================] - 0s 2ms/step - loss: 0.4193 - val_loss: 0.4689\n",
      "Epoch 55/100\n",
      "93/93 [==============================] - 0s 2ms/step - loss: 0.4308 - val_loss: 0.3593\n",
      "Epoch 56/100\n",
      "93/93 [==============================] - 0s 2ms/step - loss: 0.4121 - val_loss: 0.3697\n",
      "Epoch 57/100\n",
      "93/93 [==============================] - 0s 3ms/step - loss: 0.4077 - val_loss: 0.4031\n",
      "Epoch 58/100\n",
      "93/93 [==============================] - 0s 2ms/step - loss: 0.4199 - val_loss: 0.3490\n",
      "Epoch 59/100\n",
      "93/93 [==============================] - 0s 2ms/step - loss: 0.4208 - val_loss: 0.3518\n",
      "Epoch 60/100\n",
      "93/93 [==============================] - 0s 2ms/step - loss: 0.4273 - val_loss: 0.3718\n",
      "Epoch 61/100\n",
      "93/93 [==============================] - 0s 3ms/step - loss: 0.3948 - val_loss: 0.3507\n",
      "Epoch 62/100\n",
      "93/93 [==============================] - 0s 3ms/step - loss: 0.4157 - val_loss: 0.4741\n",
      "Epoch 63/100\n",
      "93/93 [==============================] - 0s 2ms/step - loss: 0.4232 - val_loss: 0.3487\n",
      "Epoch 64/100\n",
      "93/93 [==============================] - 0s 2ms/step - loss: 0.3950 - val_loss: 0.4177\n",
      "Epoch 65/100\n",
      "93/93 [==============================] - 0s 2ms/step - loss: 0.4000 - val_loss: 0.3573\n",
      "Epoch 66/100\n",
      "93/93 [==============================] - 0s 2ms/step - loss: 0.3972 - val_loss: 0.3530\n",
      "Epoch 67/100\n",
      "93/93 [==============================] - 0s 2ms/step - loss: 0.4009 - val_loss: 0.3741\n",
      "Epoch 68/100\n",
      "93/93 [==============================] - 0s 2ms/step - loss: 0.3917 - val_loss: 0.3488\n",
      "Epoch 69/100\n",
      "93/93 [==============================] - 0s 2ms/step - loss: 0.3945 - val_loss: 0.3728\n",
      "Epoch 70/100\n",
      "93/93 [==============================] - 0s 2ms/step - loss: 0.4142 - val_loss: 0.3518\n",
      "Epoch 71/100\n",
      "93/93 [==============================] - 0s 2ms/step - loss: 0.3792 - val_loss: 0.3499\n",
      "Epoch 72/100\n",
      "93/93 [==============================] - 0s 2ms/step - loss: 0.3923 - val_loss: 0.3916\n",
      "Epoch 73/100\n",
      "93/93 [==============================] - 0s 2ms/step - loss: 0.4304 - val_loss: 0.4559\n",
      "Epoch 74/100\n",
      "93/93 [==============================] - 0s 2ms/step - loss: 0.4075 - val_loss: 0.3598\n",
      "Epoch 75/100\n",
      "93/93 [==============================] - 0s 2ms/step - loss: 0.3786 - val_loss: 0.3622\n",
      "Epoch 76/100\n",
      "93/93 [==============================] - 0s 2ms/step - loss: 0.3927 - val_loss: 0.3548\n",
      "Epoch 77/100\n",
      "93/93 [==============================] - 0s 2ms/step - loss: 0.4332 - val_loss: 0.3518\n",
      "Epoch 78/100\n",
      "93/93 [==============================] - 0s 3ms/step - loss: 0.3842 - val_loss: 0.3454\n",
      "Epoch 79/100\n",
      "93/93 [==============================] - 0s 2ms/step - loss: 0.3993 - val_loss: 0.4245\n",
      "Epoch 80/100\n",
      "93/93 [==============================] - 0s 2ms/step - loss: 0.4288 - val_loss: 0.5207\n",
      "Epoch 81/100\n",
      "93/93 [==============================] - 0s 3ms/step - loss: 0.3894 - val_loss: 0.3544\n",
      "Epoch 82/100\n",
      "93/93 [==============================] - 0s 2ms/step - loss: 0.4043 - val_loss: 0.3544\n"
     ]
    },
    {
     "name": "stdout",
     "output_type": "stream",
     "text": [
      "Epoch 83/100\n",
      "93/93 [==============================] - 0s 3ms/step - loss: 0.3941 - val_loss: 0.3487\n",
      "Epoch 84/100\n",
      "93/93 [==============================] - 0s 2ms/step - loss: 0.4122 - val_loss: 0.3491\n",
      "Epoch 85/100\n",
      "93/93 [==============================] - 0s 2ms/step - loss: 0.4079 - val_loss: 0.3923\n",
      "Epoch 86/100\n",
      "93/93 [==============================] - 0s 2ms/step - loss: 0.4059 - val_loss: 0.4368\n",
      "Epoch 87/100\n",
      "93/93 [==============================] - 0s 3ms/step - loss: 0.3885 - val_loss: 0.3453\n",
      "Epoch 88/100\n",
      "93/93 [==============================] - 0s 2ms/step - loss: 0.3748 - val_loss: 0.3525\n",
      "Epoch 89/100\n",
      "93/93 [==============================] - 0s 3ms/step - loss: 0.3951 - val_loss: 0.3501\n",
      "Epoch 90/100\n",
      "93/93 [==============================] - 0s 2ms/step - loss: 0.3953 - val_loss: 0.4103\n",
      "Epoch 91/100\n",
      "93/93 [==============================] - 0s 3ms/step - loss: 0.4412 - val_loss: 0.5286\n",
      "Epoch 92/100\n",
      "93/93 [==============================] - 0s 2ms/step - loss: 0.3899 - val_loss: 0.3443\n",
      "Epoch 93/100\n",
      "93/93 [==============================] - 0s 2ms/step - loss: 0.4087 - val_loss: 0.4328\n",
      "Epoch 94/100\n",
      "93/93 [==============================] - 0s 2ms/step - loss: 0.3997 - val_loss: 0.3926\n",
      "Epoch 95/100\n",
      "93/93 [==============================] - 0s 3ms/step - loss: 0.3900 - val_loss: 0.3633\n",
      "Epoch 96/100\n",
      "93/93 [==============================] - 0s 2ms/step - loss: 0.4041 - val_loss: 0.4222\n",
      "Epoch 97/100\n",
      "93/93 [==============================] - 0s 3ms/step - loss: 0.3972 - val_loss: 0.4080\n",
      "Epoch 98/100\n",
      "93/93 [==============================] - 0s 3ms/step - loss: 0.3904 - val_loss: 0.3776\n",
      "Epoch 99/100\n",
      "93/93 [==============================] - 0s 2ms/step - loss: 0.4228 - val_loss: 0.4647\n",
      "Epoch 100/100\n",
      "93/93 [==============================] - 0s 2ms/step - loss: 0.3959 - val_loss: 0.3925\n"
     ]
    }
   ],
   "source": [
    "model.compile(optimizer=opt, loss='mse')\n",
    "history = model.fit(X_train, y_train, batch_size=16, epochs=100, validation_data=(X_test, y_test))"
   ]
  },
  {
   "cell_type": "code",
   "execution_count": 12,
   "id": "a65946cd",
   "metadata": {},
   "outputs": [
    {
     "data": {
      "image/png": "[encoded data removed]",
      "text/plain": [
       "<Figure size 432x288 with 1 Axes>"
      ]
     },
     "metadata": {
      "needs_background": "light"
     },
     "output_type": "display_data"
    }
   ],
   "source": [
    "plt.plot(np.array([history.history['loss'], history.history['val_loss']]).T)\n",
    "plt.ylabel('loss')\n",
    "plt.xlabel('epoch')\n",
    "plt.show()"
   ]
  },
  {
   "cell_type": "code",
   "execution_count": 13,
   "id": "0989e184",
   "metadata": {},
   "outputs": [],
   "source": [
    "model.save('reg.h5')"
   ]
  }
 ],
 "metadata": {
  "kernelspec": {
   "display_name": "Python 3 (ipykernel)",
   "language": "python",
   "name": "python3"
  },
  "language_info": {
   "codemirror_mode": {
    "name": "ipython",
    "version": 3
   },
   "file_extension": ".py",
   "mimetype": "text/x-python",
   "name": "python",
   "nbconvert_exporter": "python",
   "pygments_lexer": "ipython3",
   "version": "3.9.0"
  }
 },
 "nbformat": 4,
 "nbformat_minor": 5
}
