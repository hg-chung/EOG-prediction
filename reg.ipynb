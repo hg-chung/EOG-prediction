{
 "cells": [
  {
   "cell_type": "code",
   "execution_count": 1,
   "id": "04e9b27c",
   "metadata": {},
   "outputs": [],
   "source": [
    "import pickle\n",
    "import numpy as np\n",
    "import tensorflow_addons as tfa\n",
    "from sklearn.model_selection import train_test_split\n",
    "import tensorflow as tf\n",
    "from tensorflow.keras import layers\n",
    "from tensorflow.keras.utils import plot_model\n",
    "from tensorflow.keras.models import Sequential, Model\n",
    "import matplotlib.pyplot as plt"
   ]
  },
  {
   "cell_type": "code",
   "execution_count": 2,
   "id": "b0d75e6d",
   "metadata": {},
   "outputs": [],
   "source": [
    "with open('X.pkl', 'rb') as f:\n",
    "    X = pickle.load(f)\n",
    "with open('y.pkl', 'rb') as f:\n",
    "    y = pickle.load(f)  "
   ]
  },
  {
   "cell_type": "code",
   "execution_count": 47,
   "id": "7834c67b",
   "metadata": {},
   "outputs": [],
   "source": [
    "X = X.reshape(-1, 1 ,64)"
   ]
  },
  {
   "cell_type": "code",
   "execution_count": 48,
   "id": "6d9df3f4",
   "metadata": {},
   "outputs": [
    {
     "name": "stdout",
     "output_type": "stream",
     "text": [
      "(1847, 1, 64) (1847,)\n"
     ]
    }
   ],
   "source": [
    "print(X.shape, y.shape)"
   ]
  },
  {
   "cell_type": "code",
   "execution_count": 49,
   "id": "24f36f7f",
   "metadata": {},
   "outputs": [],
   "source": [
    "X_train, X_test, y_train, y_test = train_test_split(X, y, test_size=0.2, stratify=y, random_state=42)"
   ]
  },
  {
   "cell_type": "code",
   "execution_count": 36,
   "id": "a91b2815",
   "metadata": {},
   "outputs": [],
   "source": [
    "input_ = layers.Input((1,64))\n",
    "x = layers.LSTM(256)(input_)\n",
    "x = tfa.layers.GELU()(x)\n",
    "x = layers.Dropout(0.2)(x)\n",
    "x = layers.Dense(256)(x)\n",
    "x = tfa.layers.GELU()(x)\n",
    "x = layers.Dropout(0.2)(x)\n",
    "x = layers.Dense(128)(x)\n",
    "x = tfa.layers.GELU()(x)\n",
    "x = layers.Dropout(0.2)(x)\n",
    "x = layers.Dense(64)(x)\n",
    "x = tfa.layers.GELU()(x)\n",
    "output = layers.Dense(1)(x)"
   ]
  },
  {
   "cell_type": "code",
   "execution_count": 37,
   "id": "f8a4bc49",
   "metadata": {},
   "outputs": [],
   "source": [
    "opt = tf.keras.optimizers.Adam(1e-4)\n",
    "model = Model(input_, output)"
   ]
  },
  {
   "cell_type": "code",
   "execution_count": 38,
   "id": "4e041e30",
   "metadata": {
    "scrolled": true
   },
   "outputs": [
    {
     "name": "stdout",
     "output_type": "stream",
     "text": [
      "Epoch 1/100\n"
     ]
    },
    {
     "name": "stderr",
     "output_type": "stream",
     "text": [
      "2022-09-12 16:17:49.600798: I tensorflow/core/grappler/optimizers/custom_graph_optimizer_registry.cc:113] Plugin optimizer for device_type GPU is enabled.\n"
     ]
    },
    {
     "name": "stdout",
     "output_type": "stream",
     "text": [
      "\r",
      " 1/93 [..............................] - ETA: 1:42 - loss: 12.7691"
     ]
    },
    {
     "name": "stderr",
     "output_type": "stream",
     "text": [
      "2022-09-12 16:17:49.870477: I tensorflow/core/grappler/optimizers/custom_graph_optimizer_registry.cc:113] Plugin optimizer for device_type GPU is enabled.\n",
      "2022-09-12 16:17:49.966091: I tensorflow/core/grappler/optimizers/custom_graph_optimizer_registry.cc:113] Plugin optimizer for device_type GPU is enabled.\n"
     ]
    },
    {
     "name": "stdout",
     "output_type": "stream",
     "text": [
      "93/93 [==============================] - ETA: 0s - loss: 10.8282"
     ]
    },
    {
     "name": "stderr",
     "output_type": "stream",
     "text": [
      "2022-09-12 16:17:51.203145: I tensorflow/core/grappler/optimizers/custom_graph_optimizer_registry.cc:113] Plugin optimizer for device_type GPU is enabled.\n",
      "2022-09-12 16:17:51.292729: I tensorflow/core/grappler/optimizers/custom_graph_optimizer_registry.cc:113] Plugin optimizer for device_type GPU is enabled.\n"
     ]
    },
    {
     "name": "stdout",
     "output_type": "stream",
     "text": [
      "93/93 [==============================] - 3s 15ms/step - loss: 10.8282 - val_loss: 10.8614\n",
      "Epoch 2/100\n",
      "93/93 [==============================] - 1s 11ms/step - loss: 10.7511 - val_loss: 10.7483\n",
      "Epoch 3/100\n",
      "93/93 [==============================] - 1s 12ms/step - loss: 10.5309 - val_loss: 10.2662\n",
      "Epoch 4/100\n",
      "93/93 [==============================] - 1s 12ms/step - loss: 9.1418 - val_loss: 6.6869\n",
      "Epoch 5/100\n",
      "93/93 [==============================] - 1s 11ms/step - loss: 2.1640 - val_loss: 0.9109\n",
      "Epoch 6/100\n",
      "93/93 [==============================] - 1s 11ms/step - loss: 0.7806 - val_loss: 0.6326\n",
      "Epoch 7/100\n",
      "93/93 [==============================] - 1s 11ms/step - loss: 0.7786 - val_loss: 0.6067\n",
      "Epoch 8/100\n",
      "93/93 [==============================] - 1s 12ms/step - loss: 0.6328 - val_loss: 0.6103\n",
      "Epoch 9/100\n",
      "93/93 [==============================] - 1s 12ms/step - loss: 0.6074 - val_loss: 0.6146\n",
      "Epoch 10/100\n",
      "93/93 [==============================] - 1s 12ms/step - loss: 0.6407 - val_loss: 1.0407\n",
      "Epoch 11/100\n",
      "93/93 [==============================] - 1s 11ms/step - loss: 0.5318 - val_loss: 1.5037\n",
      "Epoch 12/100\n",
      "93/93 [==============================] - 1s 11ms/step - loss: 0.7193 - val_loss: 0.5996\n",
      "Epoch 13/100\n",
      "93/93 [==============================] - 1s 12ms/step - loss: 0.5195 - val_loss: 0.5474\n",
      "Epoch 14/100\n",
      "93/93 [==============================] - 1s 12ms/step - loss: 0.5087 - val_loss: 0.5025\n",
      "Epoch 15/100\n",
      "93/93 [==============================] - 1s 12ms/step - loss: 0.4915 - val_loss: 0.6758\n",
      "Epoch 16/100\n",
      "93/93 [==============================] - 1s 12ms/step - loss: 0.5062 - val_loss: 0.5004\n",
      "Epoch 17/100\n",
      "93/93 [==============================] - 1s 13ms/step - loss: 0.4560 - val_loss: 0.4784\n",
      "Epoch 18/100\n",
      "93/93 [==============================] - 1s 12ms/step - loss: 0.4912 - val_loss: 0.4769\n",
      "Epoch 19/100\n",
      "93/93 [==============================] - 1s 11ms/step - loss: 0.4531 - val_loss: 0.4896\n",
      "Epoch 20/100\n",
      "93/93 [==============================] - 1s 11ms/step - loss: 0.4917 - val_loss: 0.4694\n",
      "Epoch 21/100\n",
      "93/93 [==============================] - 1s 12ms/step - loss: 0.4594 - val_loss: 0.4560\n",
      "Epoch 22/100\n",
      "93/93 [==============================] - 1s 13ms/step - loss: 0.4533 - val_loss: 0.4619\n",
      "Epoch 23/100\n",
      "93/93 [==============================] - 1s 12ms/step - loss: 0.5019 - val_loss: 0.7004\n",
      "Epoch 24/100\n",
      "93/93 [==============================] - 1s 14ms/step - loss: 0.4729 - val_loss: 0.4532\n",
      "Epoch 25/100\n",
      "93/93 [==============================] - 1s 13ms/step - loss: 0.4308 - val_loss: 0.5304\n",
      "Epoch 26/100\n",
      "93/93 [==============================] - 1s 11ms/step - loss: 0.4950 - val_loss: 0.4586\n",
      "Epoch 27/100\n",
      "93/93 [==============================] - 1s 11ms/step - loss: 0.4790 - val_loss: 0.5459\n",
      "Epoch 28/100\n",
      "93/93 [==============================] - 1s 11ms/step - loss: 0.4602 - val_loss: 0.4542\n",
      "Epoch 29/100\n",
      "93/93 [==============================] - 1s 11ms/step - loss: 0.4377 - val_loss: 0.4432\n",
      "Epoch 30/100\n",
      "93/93 [==============================] - 1s 11ms/step - loss: 0.4495 - val_loss: 0.6698\n",
      "Epoch 31/100\n",
      "93/93 [==============================] - 1s 11ms/step - loss: 0.4765 - val_loss: 0.4730\n",
      "Epoch 32/100\n",
      "93/93 [==============================] - 1s 11ms/step - loss: 0.4393 - val_loss: 0.4703\n",
      "Epoch 33/100\n",
      "93/93 [==============================] - 1s 11ms/step - loss: 0.4193 - val_loss: 0.4478\n",
      "Epoch 34/100\n",
      "93/93 [==============================] - 1s 11ms/step - loss: 0.4288 - val_loss: 0.5394\n",
      "Epoch 35/100\n",
      "93/93 [==============================] - 1s 11ms/step - loss: 0.4313 - val_loss: 0.5002\n",
      "Epoch 36/100\n",
      "93/93 [==============================] - 1s 11ms/step - loss: 0.4383 - val_loss: 0.4371\n",
      "Epoch 37/100\n",
      "93/93 [==============================] - 1s 11ms/step - loss: 0.4574 - val_loss: 0.4410\n",
      "Epoch 38/100\n",
      "93/93 [==============================] - 1s 11ms/step - loss: 0.4562 - val_loss: 0.5054\n",
      "Epoch 39/100\n",
      "93/93 [==============================] - 1s 11ms/step - loss: 0.4629 - val_loss: 0.5061\n",
      "Epoch 40/100\n",
      "93/93 [==============================] - 1s 11ms/step - loss: 0.4445 - val_loss: 0.5795\n",
      "Epoch 41/100\n",
      "93/93 [==============================] - 1s 11ms/step - loss: 0.4245 - val_loss: 0.4521\n",
      "Epoch 42/100\n",
      "93/93 [==============================] - 1s 11ms/step - loss: 0.4337 - val_loss: 0.4876\n",
      "Epoch 43/100\n",
      "93/93 [==============================] - 1s 11ms/step - loss: 0.4386 - val_loss: 0.5215\n",
      "Epoch 44/100\n",
      "93/93 [==============================] - 1s 11ms/step - loss: 0.4294 - val_loss: 0.4990\n",
      "Epoch 45/100\n",
      "93/93 [==============================] - 1s 11ms/step - loss: 0.4185 - val_loss: 0.4693\n",
      "Epoch 46/100\n",
      "93/93 [==============================] - 1s 11ms/step - loss: 0.4074 - val_loss: 0.4165\n",
      "Epoch 47/100\n",
      "93/93 [==============================] - 1s 11ms/step - loss: 0.4434 - val_loss: 0.5071\n",
      "Epoch 48/100\n",
      "93/93 [==============================] - 1s 11ms/step - loss: 0.4662 - val_loss: 0.4613\n",
      "Epoch 49/100\n",
      "93/93 [==============================] - 1s 11ms/step - loss: 0.4252 - val_loss: 0.6591\n",
      "Epoch 50/100\n",
      "93/93 [==============================] - 1s 11ms/step - loss: 0.4168 - val_loss: 0.4487\n",
      "Epoch 51/100\n",
      "93/93 [==============================] - 1s 11ms/step - loss: 0.4196 - val_loss: 0.5984\n",
      "Epoch 52/100\n",
      "93/93 [==============================] - 1s 11ms/step - loss: 0.4154 - val_loss: 0.4933\n",
      "Epoch 53/100\n",
      "93/93 [==============================] - 1s 11ms/step - loss: 0.3993 - val_loss: 0.4584\n",
      "Epoch 54/100\n",
      "93/93 [==============================] - 1s 12ms/step - loss: 0.4268 - val_loss: 0.4969\n",
      "Epoch 55/100\n",
      "93/93 [==============================] - 1s 11ms/step - loss: 0.4258 - val_loss: 0.4422\n",
      "Epoch 56/100\n",
      "93/93 [==============================] - 1s 11ms/step - loss: 0.4487 - val_loss: 0.5119\n",
      "Epoch 57/100\n",
      "93/93 [==============================] - 1s 12ms/step - loss: 0.4357 - val_loss: 0.4756\n",
      "Epoch 58/100\n",
      "93/93 [==============================] - 1s 11ms/step - loss: 0.3914 - val_loss: 0.4615\n",
      "Epoch 59/100\n",
      "93/93 [==============================] - 1s 12ms/step - loss: 0.4916 - val_loss: 0.4775\n",
      "Epoch 60/100\n",
      "93/93 [==============================] - 1s 11ms/step - loss: 0.4182 - val_loss: 0.5483\n",
      "Epoch 61/100\n",
      "93/93 [==============================] - 1s 11ms/step - loss: 0.4068 - val_loss: 0.9458\n",
      "Epoch 62/100\n",
      "93/93 [==============================] - 1s 11ms/step - loss: 0.4317 - val_loss: 0.6338\n",
      "Epoch 63/100\n",
      "93/93 [==============================] - 1s 11ms/step - loss: 0.4397 - val_loss: 0.4423\n",
      "Epoch 64/100\n",
      "93/93 [==============================] - 1s 11ms/step - loss: 0.3953 - val_loss: 0.5919\n",
      "Epoch 65/100\n",
      "93/93 [==============================] - 1s 12ms/step - loss: 0.3986 - val_loss: 0.4483\n",
      "Epoch 66/100\n",
      "93/93 [==============================] - 1s 11ms/step - loss: 0.3895 - val_loss: 0.5476\n",
      "Epoch 67/100\n",
      "93/93 [==============================] - 1s 11ms/step - loss: 0.4102 - val_loss: 0.4612\n",
      "Epoch 68/100\n",
      "93/93 [==============================] - 1s 11ms/step - loss: 0.3956 - val_loss: 0.4532\n",
      "Epoch 69/100\n",
      "93/93 [==============================] - 1s 12ms/step - loss: 0.4063 - val_loss: 0.4720\n",
      "Epoch 70/100\n",
      "93/93 [==============================] - 1s 11ms/step - loss: 0.4065 - val_loss: 0.4868\n",
      "Epoch 71/100\n",
      "93/93 [==============================] - 1s 11ms/step - loss: 0.4041 - val_loss: 0.4330\n",
      "Epoch 72/100\n",
      "93/93 [==============================] - 1s 12ms/step - loss: 0.4278 - val_loss: 0.5077\n",
      "Epoch 73/100\n",
      "93/93 [==============================] - 1s 12ms/step - loss: 0.4041 - val_loss: 0.9231\n",
      "Epoch 74/100\n",
      "93/93 [==============================] - 1s 11ms/step - loss: 0.4333 - val_loss: 0.4730\n",
      "Epoch 75/100\n",
      "93/93 [==============================] - 1s 12ms/step - loss: 0.4096 - val_loss: 0.7925\n",
      "Epoch 76/100\n",
      "93/93 [==============================] - 1s 12ms/step - loss: 0.4304 - val_loss: 0.7415\n",
      "Epoch 77/100\n",
      "93/93 [==============================] - 1s 12ms/step - loss: 0.4334 - val_loss: 0.4567\n",
      "Epoch 78/100\n",
      "93/93 [==============================] - 1s 11ms/step - loss: 0.3838 - val_loss: 0.4492\n",
      "Epoch 79/100\n",
      "93/93 [==============================] - 1s 12ms/step - loss: 0.3983 - val_loss: 0.4418\n",
      "Epoch 80/100\n",
      "93/93 [==============================] - 1s 12ms/step - loss: 0.4323 - val_loss: 0.4318\n",
      "Epoch 81/100\n",
      "93/93 [==============================] - 1s 11ms/step - loss: 0.4092 - val_loss: 0.5346\n",
      "Epoch 82/100\n"
     ]
    },
    {
     "name": "stdout",
     "output_type": "stream",
     "text": [
      "93/93 [==============================] - 1s 11ms/step - loss: 0.3997 - val_loss: 0.4553\n",
      "Epoch 83/100\n",
      "93/93 [==============================] - 1s 11ms/step - loss: 0.3850 - val_loss: 0.4122\n",
      "Epoch 84/100\n",
      "93/93 [==============================] - 1s 12ms/step - loss: 0.3966 - val_loss: 0.4403\n",
      "Epoch 85/100\n",
      "93/93 [==============================] - 1s 11ms/step - loss: 0.4214 - val_loss: 0.6318\n",
      "Epoch 86/100\n",
      "93/93 [==============================] - 1s 11ms/step - loss: 0.3812 - val_loss: 0.4156\n",
      "Epoch 87/100\n",
      "93/93 [==============================] - 1s 12ms/step - loss: 0.4016 - val_loss: 0.4066\n",
      "Epoch 88/100\n",
      "93/93 [==============================] - 1s 11ms/step - loss: 0.4394 - val_loss: 0.4902\n",
      "Epoch 89/100\n",
      "93/93 [==============================] - 1s 11ms/step - loss: 0.4088 - val_loss: 0.4194\n",
      "Epoch 90/100\n",
      "93/93 [==============================] - 1s 11ms/step - loss: 0.4206 - val_loss: 0.4203\n",
      "Epoch 91/100\n",
      "93/93 [==============================] - 1s 11ms/step - loss: 0.4500 - val_loss: 0.4636\n",
      "Epoch 92/100\n",
      "93/93 [==============================] - 1s 11ms/step - loss: 0.3869 - val_loss: 0.4777\n",
      "Epoch 93/100\n",
      "93/93 [==============================] - 1s 11ms/step - loss: 0.4365 - val_loss: 0.5009\n",
      "Epoch 94/100\n",
      "93/93 [==============================] - 1s 11ms/step - loss: 0.4164 - val_loss: 0.4397\n",
      "Epoch 95/100\n",
      "93/93 [==============================] - 1s 11ms/step - loss: 0.3730 - val_loss: 0.4284\n",
      "Epoch 96/100\n",
      "93/93 [==============================] - 1s 11ms/step - loss: 0.3908 - val_loss: 0.4285\n",
      "Epoch 97/100\n",
      "93/93 [==============================] - 1s 11ms/step - loss: 0.4129 - val_loss: 0.4096\n",
      "Epoch 98/100\n",
      "93/93 [==============================] - 1s 11ms/step - loss: 0.3962 - val_loss: 0.4213\n",
      "Epoch 99/100\n",
      "93/93 [==============================] - 1s 11ms/step - loss: 0.4102 - val_loss: 0.5472\n",
      "Epoch 100/100\n",
      "93/93 [==============================] - 1s 11ms/step - loss: 0.4095 - val_loss: 0.4566\n"
     ]
    }
   ],
   "source": [
    "model.compile(optimizer=opt, loss='mse')\n",
    "history = model.fit(X_train, y_train, batch_size=16, epochs=100, validation_data=(X_test, y_test))"
   ]
  },
  {
   "cell_type": "code",
   "execution_count": 39,
   "id": "a65946cd",
   "metadata": {},
   "outputs": [
    {
     "data": {
      "image/png": "[encoded data removed]",
      "text/plain": [
       "<Figure size 432x288 with 1 Axes>"
      ]
     },
     "metadata": {
      "needs_background": "light"
     },
     "output_type": "display_data"
    }
   ],
   "source": [
    "plt.plot(np.array([history.history['loss'], history.history['val_loss']]).T)\n",
    "plt.ylabel('loss')\n",
    "plt.xlabel('epoch')\n",
    "plt.show()"
   ]
  },
  {
   "cell_type": "code",
   "execution_count": 43,
   "id": "0989e184",
   "metadata": {},
   "outputs": [],
   "source": [
    "model.save('reg.h5')"
   ]
  },
  {
   "cell_type": "code",
   "execution_count": null,
   "id": "b62944ee",
   "metadata": {},
   "outputs": [],
   "source": []
  }
 ],
 "metadata": {
  "kernelspec": {
   "display_name": "Python 3 (ipykernel)",
   "language": "python",
   "name": "python3"
  },
  "language_info": {
   "codemirror_mode": {
    "name": "ipython",
    "version": 3
   },
   "file_extension": ".py",
   "mimetype": "text/x-python",
   "name": "python",
   "nbconvert_exporter": "python",
   "pygments_lexer": "ipython3",
   "version": "3.8.13"
  }
 },
 "nbformat": 4,
 "nbformat_minor": 5
}
