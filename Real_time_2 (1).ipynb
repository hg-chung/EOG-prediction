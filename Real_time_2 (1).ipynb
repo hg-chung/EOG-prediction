{
 "cells": [
  {
   "cell_type": "code",
   "execution_count": 152,
   "id": "315ac0d6",
   "metadata": {
    "id": "315ac0d6"
   },
   "outputs": [],
   "source": [
    "import threading\n",
    "import pandas as pd\n",
    "import numpy as np\n",
    "from scipy import signal\n",
    "import tensorflow as tf\n",
    "from tensorflow.keras import layers\n",
    "from tensorflow.keras import Sequential,Model\n",
    "from tensorflow import keras\n",
    "import os\n",
    "#import serial\n",
    "import time\n",
    "import pickle\n",
    "import tensorflow_addons as tfa"
   ]
  },
  {
   "cell_type": "code",
   "execution_count": 153,
   "id": "a3b2c28e",
   "metadata": {
    "id": "a3b2c28e"
   },
   "outputs": [],
   "source": [
    "reg_model = keras.models.load_model('reg.h5')"
   ]
  },
  {
   "cell_type": "code",
   "execution_count": 160,
   "id": "1b6c814e",
   "metadata": {
    "id": "1b6c814e"
   },
   "outputs": [],
   "source": [
    "class RealTime():\n",
    "    def __init__(self, file_path):\n",
    "        self.file_path = file_path\n",
    "\n",
    "    def diff(self, threshold=0.004): # threshold 0.0015 -> 0.005\n",
    "        #os.remove(self.file_path)\n",
    "        \n",
    "        time.sleep(1)\n",
    "        file = open(self.file_path, 'r')\n",
    "        file = pd.read_csv(file, sep='\\t', header=None)[0].values\n",
    "        diff = abs(file[1:] - file[:-1])\n",
    "        \n",
    "        idx = np.where(diff > threshold)[0]\n",
    "        \n",
    "        result = 0\n",
    "        k= 0\n",
    "        for j,i in (enumerate(reversed(idx))):\n",
    "            try:\n",
    "                if len(file[i:]) > 44 and (idx[j] - idx[j-5] == 5):\n",
    "                    result = file[i-20:i + 44]\n",
    "                    break\n",
    "            except:\n",
    "                pass\n",
    "        return result\n",
    "    \n",
    "    def predict(self, result):\n",
    "        result = result.reshape(1,1,64)\n",
    "        pred1 = reg_model(result) * 3 # output shape = (1,2)\n",
    "\n",
    "        return pred1.numpy()[0]"
   ]
  },
  {
   "cell_type": "code",
   "execution_count": 176,
   "id": "301f5d3d",
   "metadata": {
    "id": "301f5d3d",
    "outputId": "ac53ef51-4cf7-45d2-dc12-fe056213a572",
    "scrolled": true
   },
   "outputs": [
    {
     "name": "stdout",
     "output_type": "stream",
     "text": [
      "8.459391\n"
     ]
    }
   ],
   "source": [
    "#arduino = serial.Serial('com7',115200)\n",
    "#time.sleep(1)\n",
    "    \n",
    "#스택 초기화\n",
    "#stack = []\n",
    "#stack\n",
    "\n",
    "#아두이노로부터 distance값 가져와서 stack에 쌓는 함수 \n",
    "\"\"\"def making_stack():\n",
    "    while 1:\n",
    "        if arduino.readable() :\n",
    "            distance = arduino.readline().decode()[:-2]\n",
    "            stack.append(distance)\n",
    "            #print(stack)\n",
    "\n",
    "#서보모터 움직이고 distance 출력하는 함수(스택의 top에서 가져옴)\n",
    "def servo_input(pred):\n",
    "    #time.sleep(1)\n",
    "    #pred = str(pred)\n",
    "    #pred = pred.encode('utf-8')\n",
    "    #arduino.write(pred)\n",
    "    #distance 출력값 밀리지않게 딜레이조절\n",
    "    print(pred)\n",
    "    #print(stack[-1])\n",
    "    #distance = arduino.readline().decode()[:-2]\n",
    "    #print(distance)\n",
    "\n",
    "    \n",
    "\"\"\"\n",
    "if (__name__ == '__main__'):\n",
    "    rt = RealTime('VC_Example/test.txt')\n",
    "    result=0\n",
    "    while type(result)==int:\n",
    "        result = rt.diff()\n",
    "    pred = str(rt.predict(result)[0])\n",
    "    print(pred)"
   ]
  }
 ],
 "metadata": {
  "colab": {
   "provenance": []
  },
  "kernelspec": {
   "display_name": "Python 3 (ipykernel)",
   "language": "python",
   "name": "python3"
  },
  "language_info": {
   "codemirror_mode": {
    "name": "ipython",
    "version": 3
   },
   "file_extension": ".py",
   "mimetype": "text/x-python",
   "name": "python",
   "nbconvert_exporter": "python",
   "pygments_lexer": "ipython3",
   "version": "3.8.13"
  },
  "vscode": {
   "interpreter": {
    "hash": "d0e8fbdbbffc2bf7c11522dcb96a227b515d8b1445690a1ef9fa783e3a7858fb"
   }
  }
 },
 "nbformat": 4,
 "nbformat_minor": 5
}
