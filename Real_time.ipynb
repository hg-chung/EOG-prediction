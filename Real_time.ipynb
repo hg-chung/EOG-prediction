{
 "cells": [
  {
   "cell_type": "markdown",
   "id": "ac7ef12f",
   "metadata": {
    "id": "ac7ef12f"
   },
   "source": [
    "# To do\n",
    "1. 미분 값 threshold 정해야함 (trial and error)\n",
    "2. 매 0.1초마다 textdata 받아서 읽음 (while & time으로) -> 12개에 대해서 미분값 계산 \n",
    "3. 미분값 > threshold -> 해당 index -5 부터 index + 59 까지의 signal을 eyeblink detection model에 predict\n",
    "4. eyeblink면 pass, eyeblink 아니면 해당 signal reg model에 predict -> output\n",
    "\n",
    "- pipeline으로 자동화"
   ]
  },
  {
   "cell_type": "code",
   "execution_count": 4,
   "id": "315ac0d6",
   "metadata": {
    "id": "315ac0d6"
   },
   "outputs": [],
   "source": [
    "import threading\n",
    "import pandas as pd\n",
    "import numpy as np\n",
    "import matplotlib.pyplot as plt\n",
    "from scipy import signal\n",
    "import tensorflow as tf\n",
    "from tensorflow.keras import layers\n",
    "from tensorflow.keras import Sequential,Model\n",
    "from sklearn.model_selection import train_test_split\n",
    "from tensorflow import keras\n",
    "import os\n",
    "import time\n",
    "import pickle\n",
    "import tensorflow_addons as tfa"
   ]
  },
  {
   "cell_type": "code",
   "execution_count": 5,
   "id": "a3b2c28e",
   "metadata": {
    "id": "a3b2c28e"
   },
   "outputs": [],
   "source": [
    "reg_model = keras.models.load_model('reg.h5')"
   ]
  },
  {
   "cell_type": "code",
   "execution_count": 125,
   "id": "1b6c814e",
   "metadata": {
    "id": "1b6c814e"
   },
   "outputs": [],
   "source": [
    "class RealTime():\n",
    "    def __init__(self, file_path):\n",
    "        self.file_path = file_path\n",
    "        self.result =[]\n",
    "\n",
    "    def loop_(self):\n",
    "        file = open(self.file_path, 'r')\n",
    "        file = pd.read_csv(file, sep='\\t', header=None)\n",
    "        self.file = np.array([file[1].values]).T\n",
    "\n",
    "    def diff(self, threshold=0.0017): # threshold 0.0015 -> 0.005\n",
    "        valid_data = self.file\n",
    "        diff1 = (valid_data[1:] - valid_data[:-1])\n",
    "        diff = abs(diff1)\n",
    "        result = []\n",
    "        idx = np.where(diff > threshold)[0]\n",
    "        print(idx)\n",
    "        for j,i in reversed(list(enumerate(idx))):\n",
    "            if len(valid_data[i:,0]) > 44 and (idx[j] - idx[j-1]) > 200: # slicing 모호함(7개보다 연속적인 경우가 많음 그리고 \n",
    "                                                                            #threshold 값 만으로 실시간으로 inex를 검출하는게 난해함)\n",
    "                result.append(valid_data[i-20:i + 44])\n",
    "                break\n",
    "            else:\n",
    "                pass\n",
    "\n",
    "        self.result = np.array(result)\n",
    "        print(i)\n",
    "        print(self.result)\n",
    "        \n",
    "    def predict(self):\n",
    "        result = self.result.reshape(1,1, 64)\n",
    "        pred1 = reg_model(result) * 3 # output shape = (1,2)\n",
    "            \n",
    "        return pred1.numpy()[0]"
   ]
  },
  {
   "cell_type": "code",
   "execution_count": 127,
   "id": "301f5d3d",
   "metadata": {
    "id": "301f5d3d",
    "outputId": "ac53ef51-4cf7-45d2-dc12-fe056213a572",
    "scrolled": true
   },
   "outputs": [
    {
     "data": {
      "image/png": "[encoded data removed]",
      "text/plain": [
       "<Figure size 432x288 with 1 Axes>"
      ]
     },
     "metadata": {
      "needs_background": "light"
     },
     "output_type": "display_data"
    },
    {
     "name": "stdout",
     "output_type": "stream",
     "text": [
      "[2797 3707 3710 3711 3712 3713 3714 3715 3716 3717 3718 3719 3720 3721\n",
      " 3722 3723 3724 3725 3726 3727 3728 3729 3731 3732 3734 3748 5619 5622\n",
      " 5623 5624 5625 5626 5627 5628 5629 5630 5631 5632 5633 5634 5635 5636\n",
      " 5637 5638 5639 5640 5641 5642 5643 5644 5645 5646 5647 5649 5652 5998\n",
      " 6483 6484 6485 6486 6487 6488 6489 6491 6492 6493 6494 6495 6496 6497\n",
      " 6499 6500 6501 6502 6503 6504 6505 6506 6507 6508 6509 6510 6511 6513\n",
      " 6516 7448 7454 7455 7456 7457 7458 7459 7460 7461 7462 7463 7464 7465\n",
      " 7466 7467 7468 7469 7470 7471 7472 7473 7474 7475 7476 7477 7478 7479\n",
      " 7480 7481 7482 7498 8295 8296 8297 8299 8300 8301 8302 8303 8304 8305\n",
      " 8306 8307 8308 8309 8310 8311 8312 8313 8314 8315 8316 8317 8318 8319\n",
      " 8320 8321 8322 8323 8324 8325 8326 8327 8328 8329 8330 8331 8332 8333\n",
      " 8334 8335 8336 8337 8338 8339 8340 8341 8342 8343 8344 8345 8346 8347\n",
      " 8548 9248 9257 9260 9261 9262 9263 9264 9265 9266 9267 9268 9269 9270\n",
      " 9271 9272 9273 9274 9275 9276 9277 9278 9279 9280 9281 9282 9283 9284\n",
      " 9285 9286 9287 9288 9289 9290 9291 9292 9293 9294 9295 9296 9297 9298\n",
      " 9299 9300 9301 9302 9303 9304 9305 9306 9307 9308 9309 9310 9314]\n",
      "9248\n",
      "[[[1.5885001]\n",
      "  [1.5887947]\n",
      "  [1.5885001]\n",
      "  [1.5886965]\n",
      "  [1.5887947]\n",
      "  [1.5891874]\n",
      "  [1.5888929]\n",
      "  [1.5888438]\n",
      "  [1.5888929]\n",
      "  [1.588991 ]\n",
      "  [1.5890893]\n",
      "  [1.5891874]\n",
      "  [1.5892856]\n",
      "  [1.5893347]\n",
      "  [1.5895311]\n",
      "  [1.5895311]\n",
      "  [1.5896783]\n",
      "  [1.5903655]\n",
      "  [1.5907583]\n",
      "  [1.5912001]\n",
      "  [1.5908564]\n",
      "  [1.59282  ]\n",
      "  [1.5932127]\n",
      "  [1.5939982]\n",
      "  [1.5948818]\n",
      "  [1.5957164]\n",
      "  [1.5967963]\n",
      "  [1.5981708]\n",
      "  [1.5992016]\n",
      "  [1.6004288]\n",
      "  [1.6021469]\n",
      "  [1.6033741]\n",
      "  [1.604454 ]\n",
      "  [1.6070558]\n",
      "  [1.6088719]\n",
      "  [1.6108845]\n",
      "  [1.6127989]\n",
      "  [1.6153024]\n",
      "  [1.6176095]\n",
      "  [1.6200148]\n",
      "  [1.6226654]\n",
      "  [1.6254143]\n",
      "  [1.6280158]\n",
      "  [1.6311082]\n",
      "  [1.6339551]\n",
      "  [1.6369002]\n",
      "  [1.6401398]\n",
      "  [1.6438211]\n",
      "  [1.6470606]\n",
      "  [1.6501529]\n",
      "  [1.6536869]\n",
      "  [1.6572208]\n",
      "  [1.6608039]\n",
      "  [1.6641905]\n",
      "  [1.6678717]\n",
      "  [1.6720927]\n",
      "  [1.6755774]\n",
      "  [1.6790621]\n",
      "  [1.6827922]\n",
      "  [1.6864733]\n",
      "  [1.690007 ]\n",
      "  [1.6939332]\n",
      "  [1.6971725]\n",
      "  [1.700657 ]]]\n",
      "[3.4863806]\n"
     ]
    }
   ],
   "source": [
    "loop =1\n",
    "while (loop!=0):\n",
    "    rt = RealTime('randomdata/(1, -1, 2, -3 ,-5).txt')\n",
    "    rt.loop_()\n",
    "    X = np.array(rt.file)\n",
    "    plt.plot(X)\n",
    "    plt.show()\n",
    "    rt.diff()\n",
    "    #if len(rt.result) > 30:\n",
    "    pred = rt.predict()\n",
    "    print(pred)\n",
    "    #break\n",
    "    \n",
    "    loop-=1"
   ]
  },
  {
   "cell_type": "code",
   "execution_count": null,
   "id": "3dc8e5e2",
   "metadata": {
    "id": "3dc8e5e2"
   },
   "outputs": [],
   "source": []
  }
 ],
 "metadata": {
  "colab": {
   "provenance": []
  },
  "kernelspec": {
   "display_name": "Python 3 (ipykernel)",
   "language": "python",
   "name": "python3"
  },
  "language_info": {
   "codemirror_mode": {
    "name": "ipython",
    "version": 3
   },
   "file_extension": ".py",
   "mimetype": "text/x-python",
   "name": "python",
   "nbconvert_exporter": "python",
   "pygments_lexer": "ipython3",
   "version": "3.9.0"
  }
 },
 "nbformat": 4,
 "nbformat_minor": 5
}
